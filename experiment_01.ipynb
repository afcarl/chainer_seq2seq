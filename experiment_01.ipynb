{
 "metadata": {
  "name": ""
 },
 "nbformat": 3,
 "nbformat_minor": 0,
 "worksheets": [
  {
   "cells": [
    {
     "cell_type": "code",
     "collapsed": false,
     "input": [
      "%load_ext autoreload\n",
      "%autoreload 2"
     ],
     "language": "python",
     "metadata": {},
     "outputs": [],
     "prompt_number": 1
    },
    {
     "cell_type": "markdown",
     "metadata": {},
     "source": [
      "load data"
     ]
    },
    {
     "cell_type": "code",
     "collapsed": false,
     "input": [
      "import cPickle\n",
      "src_data = cPickle.load(open(\"/home/ubuntu/data/seq2seq/train_dataset.pkl\"))\n",
      "print(src_data.shape)"
     ],
     "language": "python",
     "metadata": {},
     "outputs": [
      {
       "output_type": "stream",
       "stream": "stdout",
       "text": [
        "(15000, 1)\n"
       ]
      }
     ],
     "prompt_number": 2
    },
    {
     "cell_type": "code",
     "collapsed": false,
     "input": [
      "import matplotlib.pyplot as plt\n",
      "plt.plot(src_data[20:230])"
     ],
     "language": "python",
     "metadata": {},
     "outputs": [
      {
       "metadata": {},
       "output_type": "pyout",
       "prompt_number": 3,
       "text": [
        "[<matplotlib.lines.Line2D at 0x7f3d063f08d0>]"
       ]
      },
      {
       "metadata": {},
       "output_type": "display_data",
       "png": "[encoded data removed]",
       "text": [
        "<matplotlib.figure.Figure at 0x7f3d06cc0550>"
       ]
      }
     ],
     "prompt_number": 3
    },
    {
     "cell_type": "markdown",
     "metadata": {},
     "source": [
      "make a set of mini batches"
     ]
    },
    {
     "cell_type": "code",
     "collapsed": false,
     "input": [
      "import utils\n",
      "LENGTH_OF_TRAIN_SEQUENCE = 210\n",
      "src_xsequences = utils.make_mini_batch_without_overlap(src_data[:,0], LENGTH_OF_TRAIN_SEQUENCE)\n",
      "print(src_xsequences.shape)"
     ],
     "language": "python",
     "metadata": {},
     "outputs": [
      {
       "output_type": "stream",
       "stream": "stdout",
       "text": [
        "(71, 210)\n"
       ]
      }
     ],
     "prompt_number": 38
    },
    {
     "cell_type": "code",
     "collapsed": false,
     "input": [
      "plt.plot(src_xsequences[0, 0:210])\n",
      "plt.plot(src_xsequences[70, 0:210])\n",
      "src_xsequences = src_xsequences[0:1,:]\n",
      "print(src_xsequences.shape)"
     ],
     "language": "python",
     "metadata": {},
     "outputs": [
      {
       "output_type": "stream",
       "stream": "stdout",
       "text": [
        "(1, 210)\n"
       ]
      },
      {
       "metadata": {},
       "output_type": "display_data",
       "png": "[encoded data removed]",
       "text": [
        "<matplotlib.figure.Figure at 0x7f3ce9e92b10>"
       ]
      }
     ],
     "prompt_number": 39
    },
    {
     "cell_type": "code",
     "collapsed": false,
     "input": [
      "N = 11\n",
      "src_xsequences = np.array([[v for v in range(N)], [v for v in range(N) ]], dtype=np.float32)\n",
      "print(src_xsequences.shape)\n",
      "print(src_xsequences)"
     ],
     "language": "python",
     "metadata": {},
     "outputs": [
      {
       "output_type": "stream",
       "stream": "stdout",
       "text": [
        "(2, 11)\n",
        "[[  0.   1.   2.   3.   4.   5.   6.   7.   8.   9.  10.]\n",
        " [  0.   1.   2.   3.   4.   5.   6.   7.   8.   9.  10.]]\n"
       ]
      }
     ],
     "prompt_number": 35
    },
    {
     "cell_type": "markdown",
     "metadata": {},
     "source": [
      "train a model."
     ]
    },
    {
     "cell_type": "code",
     "collapsed": false,
     "input": [
      "import params\n",
      "import train\n",
      "train.train(src_xsequences)"
     ],
     "language": "python",
     "metadata": {},
     "outputs": [],
     "prompt_number": "*"
    },
    {
     "cell_type": "markdown",
     "metadata": {},
     "source": [
      "predict a sequence."
     ]
    },
    {
     "cell_type": "code",
     "collapsed": false,
     "input": [
      "import predict\n",
      "\n",
      "# load a trained model\n",
      "seq2seq = cPickle.load(open(params.MODEL_PATH))\n",
      "    \n",
      "dst_xsequences = predict.predict(seq2seq, src_xsequences)\n",
      "print(\"src\", src_xsequences)\n",
      "print(\"dst\", dst_xsequences)"
     ],
     "language": "python",
     "metadata": {},
     "outputs": [
      {
       "output_type": "stream",
       "stream": "stdout",
       "text": [
        "('src', array([[  0.,   1.,   2.,   3.,   4.,   5.,   6.,   7.,   8.,   9.,  10.],\n",
        "       [  0.,   1.,   2.,   3.,   4.,   5.,   6.,   7.,   8.,   9.,  10.]], dtype=float32))\n",
        "('dst', array([[  9.99337769e+00,   9.00551701e+00,   7.99681854e+00,\n",
        "          7.00044107e+00,   5.99929905e+00,   4.99988699e+00,\n",
        "          3.99964905e+00,   2.99960256e+00,   1.99984229e+00,\n",
        "          9.99497473e-01,  -2.84940004e-04],\n",
        "       [  9.99337769e+00,   9.00551701e+00,   7.99681854e+00,\n",
        "          7.00044107e+00,   5.99929905e+00,   4.99988699e+00,\n",
        "          3.99964905e+00,   2.99960256e+00,   1.99984229e+00,\n",
        "          9.99497473e-01,  -2.84940004e-04]], dtype=float32))\n"
       ]
      }
     ],
     "prompt_number": 37
    },
    {
     "cell_type": "code",
     "collapsed": false,
     "input": [],
     "language": "python",
     "metadata": {},
     "outputs": []
    }
   ],
   "metadata": {}
  }
 ]
}