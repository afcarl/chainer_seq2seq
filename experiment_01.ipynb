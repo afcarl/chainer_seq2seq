{
 "metadata": {
  "name": ""
 },
 "nbformat": 3,
 "nbformat_minor": 0,
 "worksheets": [
  {
   "cells": [
    {
     "cell_type": "code",
     "collapsed": false,
     "input": [
      "%load_ext autoreload\n",
      "%autoreload 2"
     ],
     "language": "python",
     "metadata": {},
     "outputs": [],
     "prompt_number": 1
    },
    {
     "cell_type": "markdown",
     "metadata": {},
     "source": [
      "load data"
     ]
    },
    {
     "cell_type": "code",
     "collapsed": false,
     "input": [
      "import cPickle\n",
      "train_src_data = cPickle.load(open(\"/home/ubuntu/data/seq2seq/train_dataset.pkl\"))\n",
      "print(train_src_data.shape)"
     ],
     "language": "python",
     "metadata": {},
     "outputs": [
      {
       "output_type": "stream",
       "stream": "stdout",
       "text": [
        "(15000, 1)\n"
       ]
      }
     ],
     "prompt_number": 2
    },
    {
     "cell_type": "code",
     "collapsed": false,
     "input": [
      "import matplotlib.pyplot as plt\n",
      "plt.plot(train_src_data[20:230])"
     ],
     "language": "python",
     "metadata": {},
     "outputs": [
      {
       "metadata": {},
       "output_type": "pyout",
       "prompt_number": 3,
       "text": [
        "[<matplotlib.lines.Line2D at 0x7f989f4bd890>]"
       ]
      },
      {
       "metadata": {},
       "output_type": "display_data",
       "png": "[encoded data removed]",
       "text": [
        "<matplotlib.figure.Figure at 0x7f989fd8d510>"
       ]
      }
     ],
     "prompt_number": 3
    },
    {
     "cell_type": "markdown",
     "metadata": {},
     "source": [
      "make a set of mini batches"
     ]
    },
    {
     "cell_type": "code",
     "collapsed": false,
     "input": [
      "import utils\n",
      "LENGTH_OF_TRAIN_SEQUENCE = 210\n",
      "train_src_mini_batch_data = utils.make_mini_batch_without_overlap(train_src_data[:,0], LENGTH_OF_TRAIN_SEQUENCE)\n",
      "valid_src_mini_batch_data = utils.make_mini_batch_without_overlap(train_src_data[:,0], LENGTH_OF_TRAIN_SEQUENCE)\n",
      "print(train_src_mini_batch_data.shape)\n",
      "print(valid_src_mini_batch_data.shape)\n",
      "\n",
      "# modify them\n",
      "train_src_mini_batch_data = train_src_mini_batch_data[0:1,:]\n",
      "valid_src_mini_batch_data = valid_src_mini_batch_data[0:1,:]\n",
      "print(train_src_mini_batch_data.shape)\n",
      "print(valid_src_mini_batch_data.shape)"
     ],
     "language": "python",
     "metadata": {},
     "outputs": [
      {
       "output_type": "stream",
       "stream": "stdout",
       "text": [
        "(71, 210)\n",
        "(71, 210)\n",
        "(1, 210)\n",
        "(1, 210)\n"
       ]
      }
     ],
     "prompt_number": 33
    },
    {
     "cell_type": "markdown",
     "metadata": {},
     "source": [
      "train a model."
     ]
    },
    {
     "cell_type": "markdown",
     "metadata": {},
     "source": [
      "create a new model."
     ]
    },
    {
     "cell_type": "code",
     "collapsed": false,
     "input": [
      "import params\n",
      "import train\n",
      "\n",
      "train.train(train_src_mini_batch_data, valid_src_mini_batch_data)"
     ],
     "language": "python",
     "metadata": {},
     "outputs": [],
     "prompt_number": "*"
    },
    {
     "cell_type": "markdown",
     "metadata": {},
     "source": [
      "use the pretrained model."
     ]
    },
    {
     "cell_type": "code",
     "collapsed": false,
     "input": [
      "import params\n",
      "# import train\n",
      "\n",
      "# pretrained_model = cPickle.load(open(params.PRETRAINDED_MODEL_PATH))\n",
      "# pretrained_optimizer = cPickle.load(open(params.PRETRAINDED_OPTIMIZER_PATH))\n",
      "# pretrained_optimizer.setup(pretrained_model)\n",
      "\n",
      "# train.train_with_pretrained_model(pretrained_model, pretrained_optimizer, train_src_mini_batch_data, valid_src_mini_batch_data)"
     ],
     "language": "python",
     "metadata": {},
     "outputs": [],
     "prompt_number": 25
    },
    {
     "cell_type": "markdown",
     "metadata": {},
     "source": [
      "display the learning curve."
     ]
    },
    {
     "cell_type": "code",
     "collapsed": false,
     "input": [
      "def values_generator(path, index):\n",
      "    for line in open(path):\n",
      "        tokens = line.strip().split()\n",
      "        if len(tokens) != 6:\n",
      "            continue\n",
      "        yield math.log10(float(tokens[index]))\n",
      "\n",
      "def train_loss_generator(path):\n",
      "        return values_generator(path, 2)\n",
      "    \n",
      "def valid_loss_generator(path):\n",
      "        return values_generator(path, 5)"
     ],
     "language": "python",
     "metadata": {},
     "outputs": [],
     "prompt_number": 26
    },
    {
     "cell_type": "code",
     "collapsed": false,
     "input": [
      "# path = \"/home/ubuntu/results/seq2seq/experiment_01/log_hidden30_batch1_seq70_epoch4000\"\n",
      "path = params.LOG_FILE_PATH\n",
      "train_loss = list(train_loss_generator(path))\n",
      "valid_loss = list(valid_loss_generator(path))\n",
      "print(\"EPOCHS: {i}\".format(i=params.EPOCHS))\n",
      "print(\"DISPLAY_EPOCH: {i}\".format(i=params.DISPLAY_EPOCH))"
     ],
     "language": "python",
     "metadata": {},
     "outputs": [
      {
       "output_type": "stream",
       "stream": "stdout",
       "text": [
        "EPOCHS: 4000\n",
        "DISPLAY_EPOCH: 50\n"
       ]
      }
     ],
     "prompt_number": 27
    },
    {
     "cell_type": "code",
     "collapsed": false,
     "input": [
      "plt.figure(figsize=(15, 10))\n",
      "plt.title(\"loss\")\n",
      "plt.plot(train_loss, label=\"train\")\n",
      "plt.plot(valid_loss, label=\"valid\")\n",
      "plt.xlabel(\"epoch\")\n",
      "plt.ylabel(\"mean square loss\")\n",
      "plt.legend(loc=\"best\")"
     ],
     "language": "python",
     "metadata": {},
     "outputs": [
      {
       "metadata": {},
       "output_type": "pyout",
       "prompt_number": 28,
       "text": [
        "<matplotlib.legend.Legend at 0x7f9883208a90>"
       ]
      },
      {
       "metadata": {},
       "output_type": "display_data",
       "png": "[encoded data removed]",
       "text": [
        "<matplotlib.figure.Figure at 0x7f9882feb710>"
       ]
      }
     ],
     "prompt_number": 28
    },
    {
     "cell_type": "markdown",
     "metadata": {},
     "source": [
      "predict a sequence."
     ]
    },
    {
     "cell_type": "code",
     "collapsed": false,
     "input": [
      "import predict\n",
      "path = params.MODEL_PATH\n",
      "# path = \"/home/ubuntu/results/seq2seq/experiment_01/model_hidden30_batch1_seq70_epoch4000.pkl\"\n",
      "\n",
      "# load a trained model\n",
      "seq2seq = cPickle.load(open(path))\n",
      "\n",
      "# predict\n",
      "valid_dst_mini_batch_data = predict.predict_(seq2seq, valid_src_mini_batch_data)"
     ],
     "language": "python",
     "metadata": {},
     "outputs": [],
     "prompt_number": 29
    },
    {
     "cell_type": "markdown",
     "metadata": {},
     "source": [
      "display input and output."
     ]
    },
    {
     "cell_type": "code",
     "collapsed": false,
     "input": [
      "index = 0\n",
      "plt.plot(valid_src_mini_batch_data[index], label=\"src\")\n",
      "inverse_valid_dst_mini_batch_data = np.fliplr(valid_dst_mini_batch_data)\n",
      "plt.plot(inverse_valid_dst_mini_batch_data[index], linestyle=\"dashed\", label=\"pred\")\n",
      "plt.ylim(0, 1)"
     ],
     "language": "python",
     "metadata": {},
     "outputs": [
      {
       "metadata": {},
       "output_type": "pyout",
       "prompt_number": 30,
       "text": [
        "(0, 1)"
       ]
      },
      {
       "metadata": {},
       "output_type": "display_data",
       "png": "[encoded data removed]",
       "text": [
        "<matplotlib.figure.Figure at 0x7f9882d35f10>"
       ]
      }
     ],
     "prompt_number": 30
    },
    {
     "cell_type": "code",
     "collapsed": false,
     "input": [
      "print(inverse_valid_dst_mini_batch_data.shape)\n",
      "print(valid_src_mini_batch_data.shape)\n",
      "_, cols = inverse_valid_dst_mini_batch_data.shape\n",
      "s = 0\n",
      "for (a, b) in zip(inverse_valid_dst_mini_batch_data[0], valid_src_mini_batch_data[0]):\n",
      "    d = (a - b)\n",
      "    d = d * d\n",
      "    s += d\n",
      "print(s / cols)"
     ],
     "language": "python",
     "metadata": {},
     "outputs": [
      {
       "output_type": "stream",
       "stream": "stdout",
       "text": [
        "(1, 150)\n",
        "(1, 150)\n",
        "0.000102147633701\n"
       ]
      }
     ],
     "prompt_number": 31
    },
    {
     "cell_type": "markdown",
     "metadata": {},
     "source": [
      "LENGTH_OF_TRAIN_SEQUENCE = 70\u306e\u3068\u304d\uff14\uff10\uff10\uff10\u56de\u306e\u7e70\u308a\u8fd4\u3057\u3067\u53ce\u675f\u3057\u305f\u3088\u3046\u306b\u898b\u3048\u308b\u3051\u308c\u3069\u4e0a\u306e\u3088\u3046\u306b\u306a\u308b\u3002"
     ]
    }
   ],
   "metadata": {}
  }
 ]
}